{
 "cells": [
  {
   "cell_type": "code",
   "execution_count": 1,
   "metadata": {},
   "outputs": [],
   "source": [
    "import numpy as np\n",
    "import pandas as pd\n",
    "import pydicom\n",
    "\n",
    "from glob import glob"
   ]
  },
  {
   "cell_type": "code",
   "execution_count": 3,
   "metadata": {},
   "outputs": [],
   "source": [
    "TRAIN_PATH = './data/dicom-images-train/*/*/*.dcm'\n",
    "TEST_PATH = './data/dicom-images-test/*/*/*.dcm'\n",
    "TRAIN_CSV = './data/train-rle.csv'"
   ]
  },
  {
   "cell_type": "code",
   "execution_count": 50,
   "metadata": {},
   "outputs": [
    {
     "data": {
      "text/html": [
       "<div>\n",
       "<style scoped>\n",
       "    .dataframe tbody tr th:only-of-type {\n",
       "        vertical-align: middle;\n",
       "    }\n",
       "\n",
       "    .dataframe tbody tr th {\n",
       "        vertical-align: top;\n",
       "    }\n",
       "\n",
       "    .dataframe thead th {\n",
       "        text-align: right;\n",
       "    }\n",
       "</style>\n",
       "<table border=\"1\" class=\"dataframe\">\n",
       "  <thead>\n",
       "    <tr style=\"text-align: right;\">\n",
       "      <th></th>\n",
       "      <th>EncodedPixels</th>\n",
       "    </tr>\n",
       "    <tr>\n",
       "      <th>ImageId</th>\n",
       "      <th></th>\n",
       "    </tr>\n",
       "  </thead>\n",
       "  <tbody>\n",
       "    <tr>\n",
       "      <th>1.2.276.0.7230010.3.1.4.8323329.5597.1517875188.959090</th>\n",
       "      <td>-1</td>\n",
       "    </tr>\n",
       "    <tr>\n",
       "      <th>1.2.276.0.7230010.3.1.4.8323329.12515.1517875239.501137</th>\n",
       "      <td>-1</td>\n",
       "    </tr>\n",
       "    <tr>\n",
       "      <th>1.2.276.0.7230010.3.1.4.8323329.4904.1517875185.355709</th>\n",
       "      <td>175349 7 1013 12 1009 17 1005 19 1003 20 1002...</td>\n",
       "    </tr>\n",
       "    <tr>\n",
       "      <th>1.2.276.0.7230010.3.1.4.8323329.32579.1517875161.299312</th>\n",
       "      <td>407576 2 1021 7 1015 10 1013 12 1011 14 1008 ...</td>\n",
       "    </tr>\n",
       "    <tr>\n",
       "      <th>1.2.276.0.7230010.3.1.4.8323329.32579.1517875161.299312</th>\n",
       "      <td>252069 1 1021 3 1020 4 1018 5 1018 6 1016 7 1...</td>\n",
       "    </tr>\n",
       "  </tbody>\n",
       "</table>\n",
       "</div>"
      ],
      "text/plain": [
       "                                                                                        EncodedPixels\n",
       "ImageId                                                                                              \n",
       "1.2.276.0.7230010.3.1.4.8323329.5597.1517875188...                                                 -1\n",
       "1.2.276.0.7230010.3.1.4.8323329.12515.151787523...                                                 -1\n",
       "1.2.276.0.7230010.3.1.4.8323329.4904.1517875185...   175349 7 1013 12 1009 17 1005 19 1003 20 1002...\n",
       "1.2.276.0.7230010.3.1.4.8323329.32579.151787516...   407576 2 1021 7 1015 10 1013 12 1011 14 1008 ...\n",
       "1.2.276.0.7230010.3.1.4.8323329.32579.151787516...   252069 1 1021 3 1020 4 1018 5 1018 6 1016 7 1..."
      ]
     },
     "execution_count": 50,
     "metadata": {},
     "output_type": "execute_result"
    }
   ],
   "source": [
    "df = pd.read_csv(TRAIN_CSV, index_col='ImageId')\n",
    "df.head()"
   ]
  },
  {
   "cell_type": "code",
   "execution_count": 36,
   "metadata": {},
   "outputs": [
    {
     "name": "stdout",
     "output_type": "stream",
     "text": [
      "1.2.276.0.7230010.3.1.4.8323329.1272.1517875167.67528\n"
     ]
    }
   ],
   "source": [
    "# Get the id image from the first file in train\n",
    "id_1 = glob(TRAIN_PATH)[0].split('/')[-1][:-4]\n",
    "print(id_1)"
   ]
  },
  {
   "cell_type": "code",
   "execution_count": 53,
   "metadata": {},
   "outputs": [
    {
     "data": {
      "text/plain": [
       "' -1'"
      ]
     },
     "execution_count": 53,
     "metadata": {},
     "output_type": "execute_result"
    }
   ],
   "source": [
    "# Get the EncodedPixels corresponding to the image above\n",
    "df.loc[id_1][0]"
   ]
  },
  {
   "cell_type": "code",
   "execution_count": 63,
   "metadata": {},
   "outputs": [
    {
     "data": {
      "text/plain": [
       "(11582, 1)"
      ]
     },
     "execution_count": 63,
     "metadata": {},
     "output_type": "execute_result"
    }
   ],
   "source": [
    "df.shape"
   ]
  },
  {
   "cell_type": "code",
   "execution_count": 64,
   "metadata": {},
   "outputs": [],
   "source": [
    "no_encoded_pixels = []\n",
    "encoded_pixels = []\n",
    "errors = []\n",
    "\n",
    "for _, file_path in enumerate(glob(TRAIN_PATH)):\n",
    "    # Check if the image has EncodedPixels value\n",
    "    #print(file_path)\n",
    "    image_id = file_path.split('/')[-1][:-4]\n",
    "    #print(image_id)\n",
    "    \n",
    "    try:   \n",
    "        if '-1' in df.loc[image_id][0]:\n",
    "            no_encoded_pixels.append(image_id)\n",
    "        else:\n",
    "            encoded_pixels.append(image_id)\n",
    "            \n",
    "    \n",
    "    except KeyError:\n",
    "        errors.append(image_id)\n"
   ]
  },
  {
   "cell_type": "code",
   "execution_count": 65,
   "metadata": {},
   "outputs": [
    {
     "name": "stdout",
     "output_type": "stream",
     "text": [
      "Total images: 11582\n",
      "Images with EP: 1755\n",
      "Images without EP: 8296\n",
      "errors: 661\n"
     ]
    }
   ],
   "source": [
    "        \n",
    "print(\"Total images: {}\".format(df.shape[0]))\n",
    "print(\"Images with EP: {}\".format(len(encoded_pixels)))\n",
    "print(\"Images without EP: {}\".format(len(no_encoded_pixels)))\n",
    "print(\"errors: {}\".format(len(errors)))"
   ]
  },
  {
   "cell_type": "code",
   "execution_count": null,
   "metadata": {},
   "outputs": [],
   "source": []
  }
 ],
 "metadata": {
  "kernelspec": {
   "display_name": "Python 3",
   "language": "python",
   "name": "python3"
  },
  "language_info": {
   "codemirror_mode": {
    "name": "ipython",
    "version": 3
   },
   "file_extension": ".py",
   "mimetype": "text/x-python",
   "name": "python",
   "nbconvert_exporter": "python",
   "pygments_lexer": "ipython3",
   "version": "3.6.7"
  }
 },
 "nbformat": 4,
 "nbformat_minor": 2
}
