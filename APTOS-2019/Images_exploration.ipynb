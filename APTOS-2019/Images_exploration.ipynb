{
 "cells": [
  {
   "cell_type": "markdown",
   "metadata": {},
   "source": [
    "## Kaggle competition: APTOS 2019 Blindness Detection \n",
    "\n",
    "https://www.kaggle.com/c/aptos2019-blindness-detection/overview"
   ]
  },
  {
   "cell_type": "code",
   "execution_count": 2,
   "metadata": {},
   "outputs": [],
   "source": [
    "import os\n",
    "import seaborn as sns\n",
    "import numpy as np\n",
    "import pandas as pd\n",
    "import scipy\n",
    "import matplotlib.pyplot as plt\n",
    "from PIL import Image"
   ]
  },
  {
   "cell_type": "code",
   "execution_count": 3,
   "metadata": {},
   "outputs": [],
   "source": [
    "IMAGES_PATH = './raw/train_images'"
   ]
  },
  {
   "cell_type": "code",
   "execution_count": 29,
   "metadata": {},
   "outputs": [
    {
     "name": "stdout",
     "output_type": "stream",
     "text": [
      "3662\n"
     ]
    }
   ],
   "source": [
    "# Get the dimensions of images\n",
    "sizes = []\n",
    "\n",
    "for r, _, f in os.walk(IMAGES_PATH):\n",
    "    for file in f:\n",
    "        if file.endswith(\".png\"):\n",
    "            file_path = os.path.join(r, file)\n",
    "            with Image.open(file_path) as img:\n",
    "                w, h = img.size\n",
    "                sizes.append([file_path, w, h])\n",
    "\n",
    "print(len(sizes))"
   ]
  },
  {
   "cell_type": "code",
   "execution_count": 36,
   "metadata": {},
   "outputs": [
    {
     "data": {
      "text/html": [
       "<div>\n",
       "<style scoped>\n",
       "    .dataframe tbody tr th:only-of-type {\n",
       "        vertical-align: middle;\n",
       "    }\n",
       "\n",
       "    .dataframe tbody tr th {\n",
       "        vertical-align: top;\n",
       "    }\n",
       "\n",
       "    .dataframe thead th {\n",
       "        text-align: right;\n",
       "    }\n",
       "</style>\n",
       "<table border=\"1\" class=\"dataframe\">\n",
       "  <thead>\n",
       "    <tr style=\"text-align: right;\">\n",
       "      <th></th>\n",
       "      <th>file_path</th>\n",
       "      <th>x</th>\n",
       "      <th>y</th>\n",
       "    </tr>\n",
       "  </thead>\n",
       "  <tbody>\n",
       "    <tr>\n",
       "      <th>0</th>\n",
       "      <td>./raw/train_images/38373431d996.png</td>\n",
       "      <td>2048</td>\n",
       "      <td>1536</td>\n",
       "    </tr>\n",
       "    <tr>\n",
       "      <th>1</th>\n",
       "      <td>./raw/train_images/acf976efd7ce.png</td>\n",
       "      <td>1050</td>\n",
       "      <td>1050</td>\n",
       "    </tr>\n",
       "    <tr>\n",
       "      <th>2</th>\n",
       "      <td>./raw/train_images/dd02d60bef14.png</td>\n",
       "      <td>2048</td>\n",
       "      <td>1536</td>\n",
       "    </tr>\n",
       "    <tr>\n",
       "      <th>3</th>\n",
       "      <td>./raw/train_images/9122b31414d3.png</td>\n",
       "      <td>1050</td>\n",
       "      <td>1050</td>\n",
       "    </tr>\n",
       "    <tr>\n",
       "      <th>4</th>\n",
       "      <td>./raw/train_images/384631079d1e.png</td>\n",
       "      <td>3388</td>\n",
       "      <td>2588</td>\n",
       "    </tr>\n",
       "  </tbody>\n",
       "</table>\n",
       "</div>"
      ],
      "text/plain": [
       "                             file_path     x     y\n",
       "0  ./raw/train_images/38373431d996.png  2048  1536\n",
       "1  ./raw/train_images/acf976efd7ce.png  1050  1050\n",
       "2  ./raw/train_images/dd02d60bef14.png  2048  1536\n",
       "3  ./raw/train_images/9122b31414d3.png  1050  1050\n",
       "4  ./raw/train_images/384631079d1e.png  3388  2588"
      ]
     },
     "execution_count": 36,
     "metadata": {},
     "output_type": "execute_result"
    }
   ],
   "source": [
    "data = np.array(sizes)\n",
    "df = pd.DataFrame(data = data, columns = ['file_path', 'x', 'y'])\n",
    "df['x'] = df['x'].astype('int32')\n",
    "df['y'] = df['y'].astype('int32')\n",
    "df.head()"
   ]
  },
  {
   "cell_type": "code",
   "execution_count": 37,
   "metadata": {},
   "outputs": [
    {
     "name": "stdout",
     "output_type": "stream",
     "text": [
      "4288 474\n",
      "2848 358\n",
      "Images with Max X (4288 px): 52\n",
      "Images with Mix X (474 px): 2\n",
      "Images with Max Y (2848 px): 52\n",
      "Images with Min Y (358 px): 2\n"
     ]
    }
   ],
   "source": [
    "# Size information\n",
    "x_max = df['x'].max()\n",
    "x_min = df['x'].min()\n",
    "y_max = df['y'].max()\n",
    "y_min = df['y'].min()\n",
    "\n",
    "print(x_max, x_min)\n",
    "print(y_max, y_min)\n",
    "\n",
    "print(\"Images with Max X ({} px): {}\".format(x_max, len(df[df['x'] == x_max])))\n",
    "print(\"Images with Mix X ({} px): {}\".format(x_min, len(df[df['x'] == x_min])))\n",
    "print(\"Images with Max Y ({} px): {}\".format(y_max, len(df[df['y'] == y_max])))\n",
    "print(\"Images with Min Y ({} px): {}\".format(y_min, len(df[df['y'] == y_min])))\n"
   ]
  },
  {
   "cell_type": "code",
   "execution_count": 27,
   "metadata": {},
   "outputs": [
    {
     "name": "stdout",
     "output_type": "stream",
     "text": [
      "Median of X: 2144.0\n",
      "Median of Y: 1536.0\n",
      "Mean of X: 2015.1767\n",
      "Mean of Y: 1526.8301\n"
     ]
    }
   ],
   "source": [
    "x_median = df['x'].median()\n",
    "y_median = df['y'].median()\n",
    "x_mean = df['x'].mean()\n",
    "y_mean = df['y'].mean()\n",
    "\n",
    "print(\"Median of X: {}\".format(x_median))\n",
    "print(\"Median of Y: {}\".format(y_median))\n",
    "print(\"Mean of X: {:.4f}\".format(x_mean))\n",
    "print(\"Mean of Y: {:.4f}\".format(y_mean))"
   ]
  },
  {
   "cell_type": "code",
   "execution_count": 28,
   "metadata": {},
   "outputs": [
    {
     "data": {
      "image/png": "[encoded data removed]",
      "text/plain": [
       "<Figure size 1080x720 with 2 Axes>"
      ]
     },
     "metadata": {},
     "output_type": "display_data"
    }
   ],
   "source": [
    "# Distribution by X value\n",
    "fig = plt.figure(figsize=(15, 10))\n",
    "s1 = fig.add_subplot(2,1,1)\n",
    "sns.distplot(df['x'], kde=False, norm_hist=False, axlabel=\"image width in px\")\n",
    "plt.axvline(x_median, color='k', label=\"median \" + str(x_median), linestyle='--')\n",
    "\n",
    "# Distribution by Y value\n",
    "s2 = fig.add_subplot(2,1,2)\n",
    "sns.distplot(df['y'], kde=False, norm_hist=False, axlabel=\"image height in px\")\n",
    "plt.axvline(y_median, color='k', label=\"median \" + str(y_median), linestyle='--')\n",
    "\n",
    "s1.legend()\n",
    "s2.legend()\n",
    "\n",
    "fig.show()"
   ]
  },
  {
   "cell_type": "code",
   "execution_count": null,
   "metadata": {},
   "outputs": [],
   "source": []
  }
 ],
 "metadata": {
  "kernelspec": {
   "display_name": "Python 3",
   "language": "python",
   "name": "python3"
  },
  "language_info": {
   "codemirror_mode": {
    "name": "ipython",
    "version": 3
   },
   "file_extension": ".py",
   "mimetype": "text/x-python",
   "name": "python",
   "nbconvert_exporter": "python",
   "pygments_lexer": "ipython3",
   "version": "3.6.8"
  }
 },
 "nbformat": 4,
 "nbformat_minor": 2
}
