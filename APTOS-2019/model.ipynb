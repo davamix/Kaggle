{
 "cells": [
  {
   "cell_type": "code",
   "execution_count": 22,
   "metadata": {},
   "outputs": [],
   "source": [
    "from tensorflow.keras.preprocessing.image import ImageDataGenerator\n",
    "\n",
    "from tensorflow.keras.applications.xception import Xception\n",
    "from tensorflow.keras.models import Sequential\n",
    "from tensorflow.keras.activations import elu\n",
    "from tensorflow.keras.layers import Dense, GlobalAveragePooling2D, Dropout\n",
    "from tensorflow.keras.optimizers import Adam\n",
    "\n",
    "from sklearn.metrics import cohen_kappa_score\n",
    "\n",
    "\n",
    "import matplotlib.pyplot as plt\n",
    "import pandas as pd\n",
    "import numpy as np\n",
    "import cv2"
   ]
  },
  {
   "cell_type": "code",
   "execution_count": 2,
   "metadata": {},
   "outputs": [],
   "source": [
    "TRAIN_DATA_PATH = './data/train_images/'\n",
    "TEST_DATA_PATH = './data/test_images/'"
   ]
  },
  {
   "cell_type": "code",
   "execution_count": 3,
   "metadata": {},
   "outputs": [],
   "source": [
    "# Image properties\n",
    "\n",
    "IMG_WIDTH = 299\n",
    "IMG_HEIGHT = 299"
   ]
  },
  {
   "cell_type": "code",
   "execution_count": 4,
   "metadata": {},
   "outputs": [],
   "source": [
    "# Hyperparameters\n",
    "\n",
    "BATCH_SIZE = 32"
   ]
  },
  {
   "cell_type": "code",
   "execution_count": 5,
   "metadata": {},
   "outputs": [],
   "source": [
    "df_train = pd.read_csv('train.csv')\n",
    "df_test = pd.read_csv('test.csv')"
   ]
  },
  {
   "cell_type": "code",
   "execution_count": 6,
   "metadata": {},
   "outputs": [],
   "source": [
    "df_train['id_code'] = df_train['id_code'] + '.png'\n",
    "df_test['id_code'] = df_test['id_code'] + '.png'"
   ]
  },
  {
   "cell_type": "code",
   "execution_count": 7,
   "metadata": {},
   "outputs": [
    {
     "data": {
      "text/html": [
       "<div>\n",
       "<style scoped>\n",
       "    .dataframe tbody tr th:only-of-type {\n",
       "        vertical-align: middle;\n",
       "    }\n",
       "\n",
       "    .dataframe tbody tr th {\n",
       "        vertical-align: top;\n",
       "    }\n",
       "\n",
       "    .dataframe thead th {\n",
       "        text-align: right;\n",
       "    }\n",
       "</style>\n",
       "<table border=\"1\" class=\"dataframe\">\n",
       "  <thead>\n",
       "    <tr style=\"text-align: right;\">\n",
       "      <th></th>\n",
       "      <th>id_code</th>\n",
       "      <th>diagnosis</th>\n",
       "    </tr>\n",
       "  </thead>\n",
       "  <tbody>\n",
       "    <tr>\n",
       "      <th>0</th>\n",
       "      <td>000c1434d8d7.png</td>\n",
       "      <td>2</td>\n",
       "    </tr>\n",
       "    <tr>\n",
       "      <th>1</th>\n",
       "      <td>001639a390f0.png</td>\n",
       "      <td>4</td>\n",
       "    </tr>\n",
       "    <tr>\n",
       "      <th>2</th>\n",
       "      <td>0024cdab0c1e.png</td>\n",
       "      <td>1</td>\n",
       "    </tr>\n",
       "    <tr>\n",
       "      <th>3</th>\n",
       "      <td>002c21358ce6.png</td>\n",
       "      <td>0</td>\n",
       "    </tr>\n",
       "    <tr>\n",
       "      <th>4</th>\n",
       "      <td>005b95c28852.png</td>\n",
       "      <td>0</td>\n",
       "    </tr>\n",
       "  </tbody>\n",
       "</table>\n",
       "</div>"
      ],
      "text/plain": [
       "            id_code  diagnosis\n",
       "0  000c1434d8d7.png          2\n",
       "1  001639a390f0.png          4\n",
       "2  0024cdab0c1e.png          1\n",
       "3  002c21358ce6.png          0\n",
       "4  005b95c28852.png          0"
      ]
     },
     "execution_count": 7,
     "metadata": {},
     "output_type": "execute_result"
    }
   ],
   "source": [
    "df_train.head()"
   ]
  },
  {
   "cell_type": "code",
   "execution_count": 8,
   "metadata": {},
   "outputs": [
    {
     "data": {
      "text/html": [
       "<div>\n",
       "<style scoped>\n",
       "    .dataframe tbody tr th:only-of-type {\n",
       "        vertical-align: middle;\n",
       "    }\n",
       "\n",
       "    .dataframe tbody tr th {\n",
       "        vertical-align: top;\n",
       "    }\n",
       "\n",
       "    .dataframe thead th {\n",
       "        text-align: right;\n",
       "    }\n",
       "</style>\n",
       "<table border=\"1\" class=\"dataframe\">\n",
       "  <thead>\n",
       "    <tr style=\"text-align: right;\">\n",
       "      <th></th>\n",
       "      <th>id_code</th>\n",
       "    </tr>\n",
       "  </thead>\n",
       "  <tbody>\n",
       "    <tr>\n",
       "      <th>0</th>\n",
       "      <td>0005cfc8afb6.png</td>\n",
       "    </tr>\n",
       "    <tr>\n",
       "      <th>1</th>\n",
       "      <td>003f0afdcd15.png</td>\n",
       "    </tr>\n",
       "    <tr>\n",
       "      <th>2</th>\n",
       "      <td>006efc72b638.png</td>\n",
       "    </tr>\n",
       "    <tr>\n",
       "      <th>3</th>\n",
       "      <td>00836aaacf06.png</td>\n",
       "    </tr>\n",
       "    <tr>\n",
       "      <th>4</th>\n",
       "      <td>009245722fa4.png</td>\n",
       "    </tr>\n",
       "  </tbody>\n",
       "</table>\n",
       "</div>"
      ],
      "text/plain": [
       "            id_code\n",
       "0  0005cfc8afb6.png\n",
       "1  003f0afdcd15.png\n",
       "2  006efc72b638.png\n",
       "3  00836aaacf06.png\n",
       "4  009245722fa4.png"
      ]
     },
     "execution_count": 8,
     "metadata": {},
     "output_type": "execute_result"
    }
   ],
   "source": [
    "df_test.head()"
   ]
  },
  {
   "cell_type": "code",
   "execution_count": 18,
   "metadata": {},
   "outputs": [],
   "source": [
    "def get_preds_and_labels(model, generator):\n",
    "    preds = []\n",
    "    labels = []\n",
    "    \n",
    "    for _ in range(int(np.ceil(generator.samples / BATCH_SIZE))):\n",
    "        x, y = next(generator)\n",
    "        preds.append(model.predict(x))\n",
    "        labels.append(y)\n",
    "        \n",
    "    return np.concatenate(preds).ravel(), np.concatenate(labels).ravel()"
   ]
  },
  {
   "cell_type": "code",
   "execution_count": 9,
   "metadata": {},
   "outputs": [],
   "source": [
    "def preprocess_image(path):\n",
    "    img = cv2.imread(df_train['id_code'][0])\n",
    "    img = cv2.cvtColor(img, cv2.COLOR_BGR2RGB)\n",
    "    img = cv2.resize(img, (IMG_WIDTH, IMG_HEIGHT))\n",
    "    \n",
    "    return img\n",
    "    "
   ]
  },
  {
   "cell_type": "code",
   "execution_count": 10,
   "metadata": {},
   "outputs": [
    {
     "name": "stdout",
     "output_type": "stream",
     "text": [
      "Found 3113 validated image filenames.\n",
      "Found 549 validated image filenames.\n"
     ]
    }
   ],
   "source": [
    "# Data generator\n",
    "\n",
    "data_generator = ImageDataGenerator(rotation_range=360,\n",
    "                                   horizontal_flip = True,\n",
    "                                   vertical_flip = True,\n",
    "                                   validation_split=0.15)\n",
    "\n",
    "train_generator = data_generator.flow_from_dataframe(df_train,\n",
    "                                                    x_col='id_code',\n",
    "                                                    y_col='diagnosis',\n",
    "                                                    directory = TRAIN_DATA_PATH,\n",
    "                                                    target_size=(IMG_WIDTH, IMG_HEIGHT),\n",
    "                                                    batch_size=BATCH_SIZE,\n",
    "                                                    class_mode='other',\n",
    "                                                    preprocessing_function = preprocess_image,\n",
    "                                                    subset='training')\n",
    "\n",
    "val_generator = data_generator.flow_from_dataframe(df_train,\n",
    "                                                  x_col='id_code',\n",
    "                                                  y_col='diagnosis',\n",
    "                                                  directory = TRAIN_DATA_PATH,\n",
    "                                                  target_size=(IMG_WIDTH, IMG_HEIGHT),\n",
    "                                                  batch_size = BATCH_SIZE,\n",
    "                                                  class_mode='other',\n",
    "                                                  preprocessing_function = preprocess_image,\n",
    "                                                  subset='validation')\n",
    "\n"
   ]
  },
  {
   "cell_type": "code",
   "execution_count": 11,
   "metadata": {},
   "outputs": [],
   "source": [
    "# Build model\n",
    "\n",
    "xception_model = Xception(weights=None, include_top=False, input_shape=(IMG_WIDTH, IMG_HEIGHT, 3))\n",
    "\n",
    "model = Sequential()\n",
    "model.add(xception_model)\n",
    "\n",
    "model.add(GlobalAveragePooling2D())\n",
    "model.add(Dropout(0.5))\n",
    "model.add(Dense(5, activation=elu))\n",
    "model.add(Dense(1, activation=\"linear\"))"
   ]
  },
  {
   "cell_type": "code",
   "execution_count": 12,
   "metadata": {},
   "outputs": [
    {
     "name": "stdout",
     "output_type": "stream",
     "text": [
      "Model: \"sequential\"\n",
      "_________________________________________________________________\n",
      "Layer (type)                 Output Shape              Param #   \n",
      "=================================================================\n",
      "xception (Model)             (None, 10, 10, 2048)      20861480  \n",
      "_________________________________________________________________\n",
      "global_average_pooling2d (Gl (None, 2048)              0         \n",
      "_________________________________________________________________\n",
      "dropout (Dropout)            (None, 2048)              0         \n",
      "_________________________________________________________________\n",
      "dense (Dense)                (None, 5)                 10245     \n",
      "_________________________________________________________________\n",
      "dense_1 (Dense)              (None, 1)                 6         \n",
      "=================================================================\n",
      "Total params: 20,871,731\n",
      "Trainable params: 20,817,203\n",
      "Non-trainable params: 54,528\n",
      "_________________________________________________________________\n"
     ]
    }
   ],
   "source": [
    "# Compilation \n",
    "\n",
    "model.compile(loss='mse', optimizer=Adam(0.0001), metrics=['mse', 'acc'])\n",
    "model.summary()"
   ]
  },
  {
   "cell_type": "code",
   "execution_count": 13,
   "metadata": {},
   "outputs": [
    {
     "name": "stdout",
     "output_type": "stream",
     "text": [
      "Epoch 1/40\n",
      "97/97 [==============================] - 342s 4s/step - loss: 1.1937 - mse: 1.1804 - acc: 0.3765 - val_loss: 2.7831 - val_mse: 2.7831 - val_acc: 0.4577\n",
      "Epoch 2/40\n",
      "97/97 [==============================] - 333s 3s/step - loss: 0.9169 - mse: 0.9132 - acc: 0.4206 - val_loss: 2.4062 - val_mse: 2.4062 - val_acc: 0.4577\n",
      "Epoch 3/40\n",
      "97/97 [==============================] - 329s 3s/step - loss: 0.8349 - mse: 0.8402 - acc: 0.4609 - val_loss: 1.9949 - val_mse: 1.9949 - val_acc: 0.1029\n",
      "Epoch 4/40\n",
      "97/97 [==============================] - 327s 3s/step - loss: 0.7915 - mse: 0.7920 - acc: 0.4719 - val_loss: 1.7214 - val_mse: 1.7214 - val_acc: 0.1029\n",
      "Epoch 5/40\n",
      "97/97 [==============================] - 324s 3s/step - loss: 0.7577 - mse: 0.7578 - acc: 0.4950 - val_loss: 1.7187 - val_mse: 1.7187 - val_acc: 0.1029\n",
      "Epoch 6/40\n",
      "97/97 [==============================] - 320s 3s/step - loss: 0.7255 - mse: 0.7263 - acc: 0.5011 - val_loss: 1.7150 - val_mse: 1.7150 - val_acc: 0.1029\n",
      "Epoch 7/40\n",
      "97/97 [==============================] - 316s 3s/step - loss: 0.7309 - mse: 0.7208 - acc: 0.5141 - val_loss: 1.4515 - val_mse: 1.4515 - val_acc: 0.1048\n",
      "Epoch 8/40\n",
      "97/97 [==============================] - 303s 3s/step - loss: 0.6947 - mse: 0.6930 - acc: 0.5131 - val_loss: 1.0065 - val_mse: 1.0065 - val_acc: 0.2482\n",
      "Epoch 9/40\n",
      "97/97 [==============================] - 296s 3s/step - loss: 0.7029 - mse: 0.6998 - acc: 0.5125 - val_loss: 0.8090 - val_mse: 0.8090 - val_acc: 0.3952\n",
      "Epoch 10/40\n",
      "97/97 [==============================] - 292s 3s/step - loss: 0.6543 - mse: 0.6564 - acc: 0.5252 - val_loss: 0.6427 - val_mse: 0.6427 - val_acc: 0.4669\n",
      "Epoch 11/40\n",
      "97/97 [==============================] - 291s 3s/step - loss: 0.6718 - mse: 0.6725 - acc: 0.5135 - val_loss: 0.6772 - val_mse: 0.6772 - val_acc: 0.5074\n",
      "Epoch 12/40\n",
      "97/97 [==============================] - 287s 3s/step - loss: 0.6219 - mse: 0.6251 - acc: 0.5229 - val_loss: 0.6528 - val_mse: 0.6528 - val_acc: 0.4835\n",
      "Epoch 13/40\n",
      "97/97 [==============================] - 286s 3s/step - loss: 0.6422 - mse: 0.6355 - acc: 0.5284 - val_loss: 0.6281 - val_mse: 0.6281 - val_acc: 0.5257\n",
      "Epoch 14/40\n",
      "97/97 [==============================] - 289s 3s/step - loss: 0.6363 - mse: 0.6304 - acc: 0.5209 - val_loss: 0.6537 - val_mse: 0.6537 - val_acc: 0.4743\n",
      "Epoch 15/40\n",
      "97/97 [==============================] - 286s 3s/step - loss: 0.6262 - mse: 0.6281 - acc: 0.5355 - val_loss: 1.4339 - val_mse: 1.4339 - val_acc: 0.2040\n",
      "Epoch 16/40\n",
      "97/97 [==============================] - 287s 3s/step - loss: 0.5643 - mse: 0.5610 - acc: 0.5362 - val_loss: 0.5692 - val_mse: 0.5692 - val_acc: 0.4982\n",
      "Epoch 17/40\n",
      "97/97 [==============================] - 288s 3s/step - loss: 0.5489 - mse: 0.5439 - acc: 0.5417 - val_loss: 1.0390 - val_mse: 1.0390 - val_acc: 0.4062\n",
      "Epoch 18/40\n",
      "97/97 [==============================] - 285s 3s/step - loss: 0.5262 - mse: 0.5258 - acc: 0.5424 - val_loss: 0.5792 - val_mse: 0.5792 - val_acc: 0.4798\n",
      "Epoch 19/40\n",
      "97/97 [==============================] - 287s 3s/step - loss: 0.5366 - mse: 0.5388 - acc: 0.5424 - val_loss: 0.6916 - val_mse: 0.6916 - val_acc: 0.5257\n",
      "Epoch 20/40\n",
      "97/97 [==============================] - 288s 3s/step - loss: 0.4958 - mse: 0.4941 - acc: 0.5440 - val_loss: 0.5006 - val_mse: 0.5006 - val_acc: 0.5221\n",
      "Epoch 21/40\n",
      "97/97 [==============================] - 286s 3s/step - loss: 0.4915 - mse: 0.4907 - acc: 0.5511 - val_loss: 1.7560 - val_mse: 1.7560 - val_acc: 0.3566\n",
      "Epoch 22/40\n",
      "97/97 [==============================] - 284s 3s/step - loss: 0.4417 - mse: 0.4414 - acc: 0.5463 - val_loss: 0.5324 - val_mse: 0.5324 - val_acc: 0.5331\n",
      "Epoch 23/40\n",
      "97/97 [==============================] - 289s 3s/step - loss: 0.4377 - mse: 0.4317 - acc: 0.5424 - val_loss: 1.2660 - val_mse: 1.2660 - val_acc: 0.4081\n",
      "Epoch 24/40\n",
      "97/97 [==============================] - 285s 3s/step - loss: 0.4458 - mse: 0.4447 - acc: 0.5570 - val_loss: 0.6123 - val_mse: 0.6123 - val_acc: 0.4596\n",
      "Epoch 25/40\n",
      "97/97 [==============================] - 288s 3s/step - loss: 0.3994 - mse: 0.4007 - acc: 0.5622 - val_loss: 1.3845 - val_mse: 1.3845 - val_acc: 0.3199\n",
      "Epoch 26/40\n",
      "97/97 [==============================] - 286s 3s/step - loss: 0.3958 - mse: 0.3930 - acc: 0.5475 - val_loss: 0.4913 - val_mse: 0.4913 - val_acc: 0.4926\n",
      "Epoch 27/40\n",
      "97/97 [==============================] - 287s 3s/step - loss: 0.4028 - mse: 0.4003 - acc: 0.5596 - val_loss: 0.7467 - val_mse: 0.7467 - val_acc: 0.5239\n",
      "Epoch 28/40\n",
      "97/97 [==============================] - 288s 3s/step - loss: 0.4183 - mse: 0.4158 - acc: 0.5570 - val_loss: 0.4147 - val_mse: 0.4147 - val_acc: 0.5349\n",
      "Epoch 29/40\n",
      "97/97 [==============================] - 292s 3s/step - loss: 0.4036 - mse: 0.3979 - acc: 0.5453 - val_loss: 0.4433 - val_mse: 0.4433 - val_acc: 0.5018\n",
      "Epoch 30/40\n",
      "97/97 [==============================] - 297s 3s/step - loss: 0.3696 - mse: 0.3707 - acc: 0.5683 - val_loss: 1.2653 - val_mse: 1.2653 - val_acc: 0.3548\n",
      "Epoch 31/40\n",
      "97/97 [==============================] - 293s 3s/step - loss: 0.3530 - mse: 0.3473 - acc: 0.5664 - val_loss: 0.6110 - val_mse: 0.6110 - val_acc: 0.4393\n",
      "Epoch 32/40\n",
      "97/97 [==============================] - 287s 3s/step - loss: 0.3729 - mse: 0.3698 - acc: 0.5514 - val_loss: 1.0499 - val_mse: 1.0499 - val_acc: 0.3787\n",
      "Epoch 33/40\n",
      "97/97 [==============================] - 294s 3s/step - loss: 0.3550 - mse: 0.3550 - acc: 0.5577 - val_loss: 0.4225 - val_mse: 0.4225 - val_acc: 0.5331\n",
      "Epoch 34/40\n",
      "97/97 [==============================] - 293s 3s/step - loss: 0.3598 - mse: 0.3582 - acc: 0.5657 - val_loss: 0.5239 - val_mse: 0.5239 - val_acc: 0.5202\n",
      "Epoch 35/40\n",
      "97/97 [==============================] - 294s 3s/step - loss: 0.3372 - mse: 0.3372 - acc: 0.5725 - val_loss: 0.4319 - val_mse: 0.4319 - val_acc: 0.5368\n",
      "Epoch 36/40\n",
      "97/97 [==============================] - 297s 3s/step - loss: 0.3322 - mse: 0.3293 - acc: 0.5628 - val_loss: 0.5163 - val_mse: 0.5163 - val_acc: 0.4467\n",
      "Epoch 37/40\n",
      "97/97 [==============================] - 303s 3s/step - loss: 0.3295 - mse: 0.3314 - acc: 0.5686 - val_loss: 0.5023 - val_mse: 0.5023 - val_acc: 0.5423\n",
      "Epoch 38/40\n",
      "97/97 [==============================] - 304s 3s/step - loss: 0.3430 - mse: 0.3386 - acc: 0.5501 - val_loss: 1.0197 - val_mse: 1.0197 - val_acc: 0.5276\n",
      "Epoch 39/40\n",
      "97/97 [==============================] - 295s 3s/step - loss: 0.3414 - mse: 0.3394 - acc: 0.5771 - val_loss: 0.6607 - val_mse: 0.6607 - val_acc: 0.3971\n",
      "Epoch 40/40\n",
      "97/97 [==============================] - 298s 3s/step - loss: 0.3411 - mse: 0.3373 - acc: 0.5622 - val_loss: 0.3751 - val_mse: 0.3751 - val_acc: 0.5276\n"
     ]
    }
   ],
   "source": [
    "# Training\n",
    "\n",
    "history = model.fit_generator(train_generator,\n",
    "                   steps_per_epoch = train_generator.samples // BATCH_SIZE,\n",
    "                   epochs=40,\n",
    "                   validation_data = val_generator,\n",
    "                   validation_steps = val_generator.samples // BATCH_SIZE)\n"
   ]
  },
  {
   "cell_type": "code",
   "execution_count": 14,
   "metadata": {},
   "outputs": [],
   "source": [
    "# Save model\n",
    "\n",
    "model.save('xception_model.h5')"
   ]
  },
  {
   "cell_type": "code",
   "execution_count": 16,
   "metadata": {},
   "outputs": [
    {
     "data": {
      "image/png": "[encoded data removed]",
      "text/plain": [
       "<Figure size 1080x720 with 2 Axes>"
      ]
     },
     "metadata": {
      "needs_background": "light"
     },
     "output_type": "display_data"
    }
   ],
   "source": [
    "# Show metrics\n",
    "\n",
    "plt.figure(figsize=(15,10))\n",
    "plt.subplot(221)\n",
    "plt.plot(history.history['acc'])\n",
    "plt.plot(history.history['val_acc'])\n",
    "plt.title(\"Model Accuracy\")\n",
    "plt.ylabel('accuracy')\n",
    "plt.xlabel('epoch')\n",
    "\n",
    "plt.subplot(222)\n",
    "plt.plot(history.history['mse'])\n",
    "plt.plot(history.history['val_mse'])\n",
    "plt.title('Mean Square Error')\n",
    "plt.ylabel('loss (mse)')\n",
    "plt.xlabel('epoch')\n",
    "\n",
    "\n",
    "plt.show()\n"
   ]
  },
  {
   "cell_type": "code",
   "execution_count": 17,
   "metadata": {},
   "outputs": [],
   "source": [
    "# Load model\n",
    "\n",
    "#model.load_weights('xception_model.h5')"
   ]
  },
  {
   "cell_type": "code",
   "execution_count": 21,
   "metadata": {},
   "outputs": [],
   "source": [
    "# Calculate QWK on train set\n",
    "\n",
    "y_train_preds, train_labels = get_preds_and_labels(model, train_generator)\n",
    "y_train_preds = np.rint(y_train_preds).astype(np.uint8).clip(0, 4)"
   ]
  },
  {
   "cell_type": "code",
   "execution_count": 23,
   "metadata": {},
   "outputs": [],
   "source": [
    "# Calculate the score\n",
    "train_score = cohen_kappa_score(train_labels, y_train_preds, weights=\"quadratic\")"
   ]
  },
  {
   "cell_type": "code",
   "execution_count": 24,
   "metadata": {},
   "outputs": [],
   "source": [
    "# Calculate QWK on validation set\n",
    "\n",
    "y_val_preds, val_labels = get_preds_and_labels(model, val_generator)\n",
    "y_val_preds = np.rint(y_val_preds).astype(np.uint8).clip(0,4)"
   ]
  },
  {
   "cell_type": "code",
   "execution_count": 26,
   "metadata": {},
   "outputs": [],
   "source": [
    "# Calculate the score\n",
    "val_score = cohen_kappa_score(val_labels, y_val_preds, weights=\"quadratic\")"
   ]
  },
  {
   "cell_type": "code",
   "execution_count": 28,
   "metadata": {},
   "outputs": [
    {
     "name": "stdout",
     "output_type": "stream",
     "text": [
      "Cohen Kappa Score (train): 0.8952\n",
      "Cohen Kappa Score (validation): 0.8573\n"
     ]
    }
   ],
   "source": [
    "print(\"Cohen Kappa Score (train): {:.4f}\".format(train_score))\n",
    "print(\"Cohen Kappa Score (validation): {:.4f}\".format(val_score))"
   ]
  },
  {
   "cell_type": "code",
   "execution_count": null,
   "metadata": {},
   "outputs": [],
   "source": [
    "# TODO: Optimize on validation data"
   ]
  }
 ],
 "metadata": {
  "kernelspec": {
   "display_name": "Python 3",
   "language": "python",
   "name": "python3"
  },
  "language_info": {
   "codemirror_mode": {
    "name": "ipython",
    "version": 3
   },
   "file_extension": ".py",
   "mimetype": "text/x-python",
   "name": "python",
   "nbconvert_exporter": "python",
   "pygments_lexer": "ipython3",
   "version": "3.6.8"
  }
 },
 "nbformat": 4,
 "nbformat_minor": 2
}
